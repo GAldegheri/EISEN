{
 "cells": [
  {
   "cell_type": "code",
   "execution_count": 1,
   "metadata": {},
   "outputs": [
    {
     "ename": "ModuleNotFoundError",
     "evalue": "No module named 'fvcore'",
     "output_type": "error",
     "traceback": [
      "\u001b[1;31m---------------------------------------------------------------------------\u001b[0m",
      "\u001b[1;31mModuleNotFoundError\u001b[0m                       Traceback (most recent call last)",
      "Cell \u001b[1;32mIn[1], line 6\u001b[0m\n\u001b[0;32m      4\u001b[0m \u001b[39mfrom\u001b[39;00m \u001b[39mlescroartdata\u001b[39;00m \u001b[39mimport\u001b[39;00m fetch_dataloader_lesc\n\u001b[0;32m      5\u001b[0m \u001b[39mimport\u001b[39;00m \u001b[39mcore\u001b[39;00m\u001b[39m.\u001b[39;00m\u001b[39mutils\u001b[39;00m\u001b[39m.\u001b[39;00m\u001b[39msync_batchnorm\u001b[39;00m \u001b[39mas\u001b[39;00m \u001b[39msync_batchnorm\u001b[39;00m\n\u001b[1;32m----> 6\u001b[0m \u001b[39mfrom\u001b[39;00m \u001b[39mcore\u001b[39;00m\u001b[39m.\u001b[39;00m\u001b[39meisen\u001b[39;00m \u001b[39mimport\u001b[39;00m EISEN\n\u001b[0;32m      7\u001b[0m \u001b[39mfrom\u001b[39;00m \u001b[39mcore\u001b[39;00m\u001b[39m.\u001b[39;00m\u001b[39mraft\u001b[39;00m \u001b[39mimport\u001b[39;00m EvalRAFT\n\u001b[0;32m      8\u001b[0m \u001b[39mfrom\u001b[39;00m \u001b[39mtypes\u001b[39;00m \u001b[39mimport\u001b[39;00m SimpleNamespace\n",
      "File \u001b[1;32mc:\\Users\\giaco\\Documents\\EISEN\\core\\eisen.py:9\u001b[0m\n\u001b[0;32m      7\u001b[0m \u001b[39mfrom\u001b[39;00m \u001b[39mtorch\u001b[39;00m\u001b[39m.\u001b[39;00m\u001b[39mnn\u001b[39;00m \u001b[39mimport\u001b[39;00m functional \u001b[39mas\u001b[39;00m F\n\u001b[0;32m      8\u001b[0m \u001b[39m# from resnet import KeyQueryNetwork\u001b[39;00m\n\u001b[1;32m----> 9\u001b[0m \u001b[39mfrom\u001b[39;00m \u001b[39mcore\u001b[39;00m\u001b[39m.\u001b[39;00m\u001b[39mresnet\u001b[39;00m \u001b[39mimport\u001b[39;00m ResNetFPN, ResNet_Deeplab\n\u001b[0;32m     10\u001b[0m \u001b[39mfrom\u001b[39;00m \u001b[39mcore\u001b[39;00m\u001b[39m.\u001b[39;00m\u001b[39mprojection\u001b[39;00m \u001b[39mimport\u001b[39;00m KeyQueryProjection\n\u001b[0;32m     12\u001b[0m \u001b[39mfrom\u001b[39;00m \u001b[39mcore\u001b[39;00m\u001b[39m.\u001b[39;00m\u001b[39mcompetition\u001b[39;00m \u001b[39mimport\u001b[39;00m Competition\n",
      "File \u001b[1;32mc:\\Users\\giaco\\Documents\\EISEN\\core\\resnet.py:5\u001b[0m\n\u001b[0;32m      1\u001b[0m \u001b[39m\"\"\"\u001b[39;00m\n\u001b[0;32m      2\u001b[0m \u001b[39mAdapt from Detectron\u001b[39;00m\n\u001b[0;32m      3\u001b[0m \u001b[39m\"\"\"\u001b[39;00m\n\u001b[0;32m      4\u001b[0m \u001b[39m# Copyright (c) Facebook, Inc. and its affiliates.\u001b[39;00m\n\u001b[1;32m----> 5\u001b[0m \u001b[39mimport\u001b[39;00m \u001b[39mfvcore\u001b[39;00m\u001b[39m.\u001b[39;00m\u001b[39mnn\u001b[39;00m\u001b[39m.\u001b[39;00m\u001b[39mweight_init\u001b[39;00m \u001b[39mas\u001b[39;00m \u001b[39mweight_init\u001b[39;00m\n\u001b[0;32m      6\u001b[0m \u001b[39mimport\u001b[39;00m \u001b[39mtorch\u001b[39;00m\u001b[39m.\u001b[39;00m\u001b[39mnn\u001b[39;00m\u001b[39m.\u001b[39;00m\u001b[39mfunctional\u001b[39;00m \u001b[39mas\u001b[39;00m \u001b[39mF\u001b[39;00m\n\u001b[0;32m      8\u001b[0m \u001b[39mfrom\u001b[39;00m \u001b[39mdetectron2\u001b[39;00m\u001b[39m.\u001b[39;00m\u001b[39mlayers\u001b[39;00m \u001b[39mimport\u001b[39;00m CNNBlockBase, Conv2d, get_norm, ShapeSpec\n",
      "\u001b[1;31mModuleNotFoundError\u001b[0m: No module named 'fvcore'"
     ]
    }
   ],
   "source": [
    "import torch\n",
    "import torch.nn as nn\n",
    "from core.datasets import fetch_dataloader\n",
    "from lescroartdata import fetch_dataloader_lesc\n",
    "import core.utils.sync_batchnorm as sync_batchnorm\n",
    "from core.eisen import EISEN\n",
    "from core.raft import EvalRAFT\n",
    "from types import SimpleNamespace"
   ]
  },
  {
   "cell_type": "code",
   "execution_count": null,
   "metadata": {},
   "outputs": [],
   "source": []
  }
 ],
 "metadata": {
  "kernelspec": {
   "display_name": "giatorch",
   "language": "python",
   "name": "python3"
  },
  "language_info": {
   "codemirror_mode": {
    "name": "ipython",
    "version": 3
   },
   "file_extension": ".py",
   "mimetype": "text/x-python",
   "name": "python",
   "nbconvert_exporter": "python",
   "pygments_lexer": "ipython3",
   "version": "3.10.9"
  },
  "orig_nbformat": 4,
  "vscode": {
   "interpreter": {
    "hash": "3f88c79eab5e25d07d6227213314c9478e4141cdc655f57022914668adb63db5"
   }
  }
 },
 "nbformat": 4,
 "nbformat_minor": 2
}
